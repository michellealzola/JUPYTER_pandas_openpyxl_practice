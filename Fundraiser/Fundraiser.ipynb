{
 "cells": [
  {
   "cell_type": "code",
   "execution_count": 1,
   "metadata": {
    "collapsed": true
   },
   "outputs": [],
   "source": [
    "# Use Pandas to group and aggregate data in an Excel spreadsheet based\n",
    "# on one or more columns and output the results to a new Excel file\n"
   ]
  },
  {
   "cell_type": "code",
   "execution_count": 2,
   "outputs": [],
   "source": [
    "import pandas as pd\n",
    "import openpyxl\n"
   ],
   "metadata": {
    "collapsed": false
   }
  },
  {
   "cell_type": "code",
   "execution_count": 3,
   "outputs": [
    {
     "name": "stderr",
     "output_type": "stream",
     "text": [
      "D:\\Django\\Seventh_String_2\\venv\\Lib\\site-packages\\openpyxl\\worksheet\\header_footer.py:48: UserWarning: Cannot parse header or footer so it will be ignored\n",
      "  warn(\"\"\"Cannot parse header or footer so it will be ignored\"\"\")\n",
      "D:\\Django\\Seventh_String_2\\venv\\Lib\\site-packages\\openpyxl\\worksheet\\_reader.py:329: UserWarning: Slicer List extension is not supported and will be removed\n",
      "  warn(msg)\n"
     ]
    }
   ],
   "source": [
    "workbook = openpyxl.load_workbook('Budget for fundraiser event1.xlsx')\n"
   ],
   "metadata": {
    "collapsed": false
   }
  },
  {
   "cell_type": "code",
   "execution_count": 4,
   "outputs": [],
   "source": [
    "sheet_names = workbook.sheetnames\n"
   ],
   "metadata": {
    "collapsed": false
   }
  },
  {
   "cell_type": "code",
   "execution_count": 5,
   "outputs": [
    {
     "data": {
      "text/plain": "['Event overview',\n 'Expenses',\n 'Revenue',\n 'Income items',\n 'Expenditure items',\n 'Participants']"
     },
     "execution_count": 5,
     "metadata": {},
     "output_type": "execute_result"
    }
   ],
   "source": [
    "sheet_names\n"
   ],
   "metadata": {
    "collapsed": false
   }
  },
  {
   "cell_type": "code",
   "execution_count": 6,
   "outputs": [],
   "source": [
    "worksheet_expenses = workbook['Expenses']\n"
   ],
   "metadata": {
    "collapsed": false
   }
  },
  {
   "cell_type": "code",
   "execution_count": 7,
   "outputs": [],
   "source": [
    "expense_col_name = ['SOURCE', 'AMOUNT', 'DATE', 'EXPENSED BY']\n"
   ],
   "metadata": {
    "collapsed": false
   }
  },
  {
   "cell_type": "code",
   "execution_count": 8,
   "outputs": [],
   "source": [
    "row_values = {}\n",
    "\n",
    "for row in worksheet_expenses.rows:\n",
    "    for cell in row:\n",
    "        if cell.value in expense_col_name:\n",
    "            row_values[cell.value] = (cell.column, cell.row)\n"
   ],
   "metadata": {
    "collapsed": false
   }
  },
  {
   "cell_type": "code",
   "execution_count": 9,
   "outputs": [
    {
     "data": {
      "text/plain": "{'SOURCE': (2, 4), 'AMOUNT': (3, 4), 'DATE': (4, 4), 'EXPENSED BY': (5, 4)}"
     },
     "execution_count": 9,
     "metadata": {},
     "output_type": "execute_result"
    }
   ],
   "source": [
    "row_values\n"
   ],
   "metadata": {
    "collapsed": false
   }
  },
  {
   "cell_type": "code",
   "execution_count": 10,
   "outputs": [
    {
     "name": "stdout",
     "output_type": "stream",
     "text": [
      "EVENT OVERVIEW|7|1\n",
      "REVENUE|9|1\n",
      "REVENUE AND EXPENSES|2|2\n",
      "EXPENSES|2|3\n",
      "SOURCE|2|4\n",
      "AMOUNT|3|4\n",
      "DATE|4|4\n",
      "EXPENSED BY|5|4\n",
      "Vehicle Rental|2|5\n",
      "115|3|5\n",
      "2025-06-01 00:00:00|4|5\n",
      "Martin|5|5\n",
      "Supplies|2|6\n",
      "45.5|3|6\n",
      "2025-06-02 00:00:00|4|6\n",
      "Sonsere|5|6\n",
      "Supplies|2|7\n",
      "50|3|7\n",
      "2025-06-01 00:00:00|4|7\n",
      "Felicia|5|7\n",
      "Advertising|2|8\n",
      "19.5|3|8\n",
      "2025-06-01 00:00:00|4|8\n",
      "Sundeep|5|8\n",
      "Business license|2|9\n",
      "34|3|9\n",
      "2025-06-02 00:00:00|4|9\n",
      "Paul|5|9\n"
     ]
    }
   ],
   "source": [
    "for row in worksheet_expenses.rows:\n",
    "    for cell in row:\n",
    "        if cell.value is not None:\n",
    "            print(cell.value, cell.column, cell.row, sep='|')"
   ],
   "metadata": {
    "collapsed": false
   }
  },
  {
   "cell_type": "code",
   "execution_count": 11,
   "outputs": [],
   "source": [
    "df_expenses = pd.DataFrame()\n",
    "\n",
    "def getCells(heading, last_row_num, worksheet):\n",
    "    df_list = []\n",
    "    for row in worksheet.rows:\n",
    "        for cell in row:\n",
    "            if cell.value == heading:\n",
    "                for i in range(cell.row + 1, last_row_num):\n",
    "                    df_list.append(worksheet.cell(row=i, column=cell.column).value)\n",
    "    return df_list\n",
    "\n",
    "for item in expense_col_name:\n",
    "    df_expenses[item] = getCells(item, 10, worksheet_expenses) # should automate the\n",
    "    # number of rows. see below applied changes to revenue (last_row)"
   ],
   "metadata": {
    "collapsed": false
   }
  },
  {
   "cell_type": "code",
   "execution_count": 12,
   "outputs": [
    {
     "data": {
      "text/plain": "             SOURCE  AMOUNT       DATE EXPENSED BY\n0    Vehicle Rental   115.0 2025-06-01      Martin\n1          Supplies    45.5 2025-06-02     Sonsere\n2          Supplies    50.0 2025-06-01     Felicia\n3       Advertising    19.5 2025-06-01     Sundeep\n4  Business license    34.0 2025-06-02        Paul",
      "text/html": "<div>\n<style scoped>\n    .dataframe tbody tr th:only-of-type {\n        vertical-align: middle;\n    }\n\n    .dataframe tbody tr th {\n        vertical-align: top;\n    }\n\n    .dataframe thead th {\n        text-align: right;\n    }\n</style>\n<table border=\"1\" class=\"dataframe\">\n  <thead>\n    <tr style=\"text-align: right;\">\n      <th></th>\n      <th>SOURCE</th>\n      <th>AMOUNT</th>\n      <th>DATE</th>\n      <th>EXPENSED BY</th>\n    </tr>\n  </thead>\n  <tbody>\n    <tr>\n      <th>0</th>\n      <td>Vehicle Rental</td>\n      <td>115.0</td>\n      <td>2025-06-01</td>\n      <td>Martin</td>\n    </tr>\n    <tr>\n      <th>1</th>\n      <td>Supplies</td>\n      <td>45.5</td>\n      <td>2025-06-02</td>\n      <td>Sonsere</td>\n    </tr>\n    <tr>\n      <th>2</th>\n      <td>Supplies</td>\n      <td>50.0</td>\n      <td>2025-06-01</td>\n      <td>Felicia</td>\n    </tr>\n    <tr>\n      <th>3</th>\n      <td>Advertising</td>\n      <td>19.5</td>\n      <td>2025-06-01</td>\n      <td>Sundeep</td>\n    </tr>\n    <tr>\n      <th>4</th>\n      <td>Business license</td>\n      <td>34.0</td>\n      <td>2025-06-02</td>\n      <td>Paul</td>\n    </tr>\n  </tbody>\n</table>\n</div>"
     },
     "execution_count": 12,
     "metadata": {},
     "output_type": "execute_result"
    }
   ],
   "source": [
    "df_expenses\n"
   ],
   "metadata": {
    "collapsed": false
   }
  },
  {
   "cell_type": "code",
   "execution_count": 13,
   "outputs": [],
   "source": [
    "worksheet_revenue = workbook['Revenue']\n"
   ],
   "metadata": {
    "collapsed": false
   }
  },
  {
   "cell_type": "code",
   "execution_count": 14,
   "outputs": [],
   "source": [
    "revenue_col_names = ['SOURCE', 'AMOUNT', 'DATE', 'COLLECTED BY']\n"
   ],
   "metadata": {
    "collapsed": false
   }
  },
  {
   "cell_type": "code",
   "execution_count": 15,
   "outputs": [
    {
     "data": {
      "text/plain": "{'SOURCE': (2, 4), 'AMOUNT': (3, 4), 'DATE': (4, 4), 'COLLECTED BY': (5, 4)}"
     },
     "execution_count": 15,
     "metadata": {},
     "output_type": "execute_result"
    }
   ],
   "source": [
    "row_heading_values = {}\n",
    "for row in worksheet_revenue:\n",
    "    for cell in row:\n",
    "        if cell.value in revenue_col_names:\n",
    "            row_heading_values[cell.value] = (cell.column, cell.row)\n",
    "row_heading_values\n"
   ],
   "metadata": {
    "collapsed": false
   }
  },
  {
   "cell_type": "code",
   "execution_count": 16,
   "outputs": [
    {
     "data": {
      "text/plain": "['EXPENSES | 7 | 1',\n 'INCOME ITEMS | 8 | 1',\n 'REVENUE AND EXPENSES | 2 | 2',\n 'REVENUE | 2 | 3',\n 'SOURCE | 2 | 4',\n 'AMOUNT | 3 | 4',\n 'DATE | 4 | 4',\n 'COLLECTED BY | 5 | 4',\n 'Raffle tickets | 2 | 5',\n '250 | 3 | 5',\n '2025-06-01 00:00:00 | 4 | 5',\n 'Sara | 5 | 5',\n 'Cash donation | 2 | 6',\n '50 | 3 | 6',\n '2025-06-01 00:00:00 | 4 | 6',\n 'John | 5 | 6',\n 'Anonymous donation | 2 | 7',\n '150 | 3 | 7',\n '2025-06-02 00:00:00 | 4 | 7',\n 'Kaleigh | 5 | 7',\n 'Silent auction | 2 | 8',\n '550 | 3 | 8',\n '2025-06-03 00:00:00 | 4 | 8',\n 'Martin | 5 | 8',\n 'Goods/services sold | 2 | 9',\n '75 | 3 | 9',\n '2025-06-03 00:00:00 | 4 | 9',\n 'Sonsere | 5 | 9',\n 'Cash donation | 2 | 10',\n '200 | 3 | 10',\n '2025-06-04 00:00:00 | 4 | 10',\n 'Felicia | 5 | 10',\n 'Anonymous donation | 2 | 11',\n '500 | 3 | 11',\n '2025-06-05 00:00:00 | 4 | 11',\n 'Sundeep | 5 | 11',\n 'Silent auction | 2 | 12',\n '775 | 3 | 12',\n '2025-06-06 00:00:00 | 4 | 12',\n 'Merida | 5 | 12',\n 'Goods/services sold | 2 | 13',\n '350 | 3 | 13',\n '2025-06-08 00:00:00 | 4 | 13',\n 'Lacey | 5 | 13',\n 'Raffle tickets | 2 | 14',\n '225 | 3 | 14',\n '2025-06-09 00:00:00 | 4 | 14',\n 'Paul | 5 | 14',\n 'Raffle tickets | 2 | 15',\n '150 | 3 | 15',\n '2025-06-11 00:00:00 | 4 | 15',\n 'Felicia | 5 | 15',\n 'Raffle tickets | 2 | 16',\n '125 | 3 | 16',\n '2025-06-11 00:00:00 | 4 | 16',\n 'Sundeep | 5 | 16']"
     },
     "execution_count": 16,
     "metadata": {},
     "output_type": "execute_result"
    }
   ],
   "source": [
    "rows_coordinates = []\n",
    "for row in worksheet_revenue.rows:\n",
    "    for cell in row:\n",
    "        if cell.value is not None:\n",
    "            rows_coordinates.append(f'{cell.value} | {cell.column} | {cell.row}')\n",
    "rows_coordinates\n"
   ],
   "metadata": {
    "collapsed": false
   }
  },
  {
   "cell_type": "code",
   "execution_count": 17,
   "outputs": [],
   "source": [
    "last_entry = rows_coordinates[len(rows_coordinates) - 1]\n"
   ],
   "metadata": {
    "collapsed": false
   }
  },
  {
   "cell_type": "code",
   "execution_count": 18,
   "outputs": [
    {
     "data": {
      "text/plain": "'Sundeep | 5 | 16'"
     },
     "execution_count": 18,
     "metadata": {},
     "output_type": "execute_result"
    }
   ],
   "source": [
    "last_entry\n"
   ],
   "metadata": {
    "collapsed": false
   }
  },
  {
   "cell_type": "code",
   "execution_count": 19,
   "outputs": [],
   "source": [
    "last_entry_list = last_entry.split('|')\n"
   ],
   "metadata": {
    "collapsed": false
   }
  },
  {
   "cell_type": "code",
   "execution_count": 20,
   "outputs": [
    {
     "data": {
      "text/plain": "['Sundeep ', ' 5 ', ' 16']"
     },
     "execution_count": 20,
     "metadata": {},
     "output_type": "execute_result"
    }
   ],
   "source": [
    "last_entry_list\n"
   ],
   "metadata": {
    "collapsed": false
   }
  },
  {
   "cell_type": "code",
   "execution_count": 21,
   "outputs": [],
   "source": [
    "last_row = int(last_entry_list[len(last_entry_list)-1])\n"
   ],
   "metadata": {
    "collapsed": false
   }
  },
  {
   "cell_type": "code",
   "execution_count": 22,
   "outputs": [
    {
     "data": {
      "text/plain": "16"
     },
     "execution_count": 22,
     "metadata": {},
     "output_type": "execute_result"
    }
   ],
   "source": [
    "last_row\n"
   ],
   "metadata": {
    "collapsed": false
   }
  },
  {
   "cell_type": "code",
   "execution_count": 23,
   "outputs": [],
   "source": [
    "df_revenue = pd.DataFrame()\n"
   ],
   "metadata": {
    "collapsed": false
   }
  },
  {
   "cell_type": "code",
   "execution_count": 24,
   "outputs": [],
   "source": [
    "for item in revenue_col_names:\n",
    "    df_revenue[item] = getCells(item, last_row, worksheet_revenue)\n"
   ],
   "metadata": {
    "collapsed": false
   }
  },
  {
   "cell_type": "code",
   "execution_count": 25,
   "outputs": [
    {
     "data": {
      "text/plain": "                 SOURCE  AMOUNT       DATE COLLECTED BY\n0        Raffle tickets     250 2025-06-01         Sara\n1         Cash donation      50 2025-06-01         John\n2    Anonymous donation     150 2025-06-02      Kaleigh\n3        Silent auction     550 2025-06-03       Martin\n4   Goods/services sold      75 2025-06-03      Sonsere\n5         Cash donation     200 2025-06-04      Felicia\n6    Anonymous donation     500 2025-06-05      Sundeep\n7        Silent auction     775 2025-06-06       Merida\n8   Goods/services sold     350 2025-06-08        Lacey\n9        Raffle tickets     225 2025-06-09         Paul\n10       Raffle tickets     150 2025-06-11      Felicia",
      "text/html": "<div>\n<style scoped>\n    .dataframe tbody tr th:only-of-type {\n        vertical-align: middle;\n    }\n\n    .dataframe tbody tr th {\n        vertical-align: top;\n    }\n\n    .dataframe thead th {\n        text-align: right;\n    }\n</style>\n<table border=\"1\" class=\"dataframe\">\n  <thead>\n    <tr style=\"text-align: right;\">\n      <th></th>\n      <th>SOURCE</th>\n      <th>AMOUNT</th>\n      <th>DATE</th>\n      <th>COLLECTED BY</th>\n    </tr>\n  </thead>\n  <tbody>\n    <tr>\n      <th>0</th>\n      <td>Raffle tickets</td>\n      <td>250</td>\n      <td>2025-06-01</td>\n      <td>Sara</td>\n    </tr>\n    <tr>\n      <th>1</th>\n      <td>Cash donation</td>\n      <td>50</td>\n      <td>2025-06-01</td>\n      <td>John</td>\n    </tr>\n    <tr>\n      <th>2</th>\n      <td>Anonymous donation</td>\n      <td>150</td>\n      <td>2025-06-02</td>\n      <td>Kaleigh</td>\n    </tr>\n    <tr>\n      <th>3</th>\n      <td>Silent auction</td>\n      <td>550</td>\n      <td>2025-06-03</td>\n      <td>Martin</td>\n    </tr>\n    <tr>\n      <th>4</th>\n      <td>Goods/services sold</td>\n      <td>75</td>\n      <td>2025-06-03</td>\n      <td>Sonsere</td>\n    </tr>\n    <tr>\n      <th>5</th>\n      <td>Cash donation</td>\n      <td>200</td>\n      <td>2025-06-04</td>\n      <td>Felicia</td>\n    </tr>\n    <tr>\n      <th>6</th>\n      <td>Anonymous donation</td>\n      <td>500</td>\n      <td>2025-06-05</td>\n      <td>Sundeep</td>\n    </tr>\n    <tr>\n      <th>7</th>\n      <td>Silent auction</td>\n      <td>775</td>\n      <td>2025-06-06</td>\n      <td>Merida</td>\n    </tr>\n    <tr>\n      <th>8</th>\n      <td>Goods/services sold</td>\n      <td>350</td>\n      <td>2025-06-08</td>\n      <td>Lacey</td>\n    </tr>\n    <tr>\n      <th>9</th>\n      <td>Raffle tickets</td>\n      <td>225</td>\n      <td>2025-06-09</td>\n      <td>Paul</td>\n    </tr>\n    <tr>\n      <th>10</th>\n      <td>Raffle tickets</td>\n      <td>150</td>\n      <td>2025-06-11</td>\n      <td>Felicia</td>\n    </tr>\n  </tbody>\n</table>\n</div>"
     },
     "execution_count": 25,
     "metadata": {},
     "output_type": "execute_result"
    }
   ],
   "source": [
    "df_revenue"
   ],
   "metadata": {
    "collapsed": false
   }
  },
  {
   "cell_type": "code",
   "execution_count": 26,
   "outputs": [],
   "source": [
    "grouped_revenue = df_revenue.groupby(['SOURCE']).agg({'AMOUNT': 'sum'})\n"
   ],
   "metadata": {
    "collapsed": false
   }
  },
  {
   "cell_type": "code",
   "execution_count": 27,
   "outputs": [
    {
     "data": {
      "text/plain": "                     AMOUNT\nSOURCE                     \nAnonymous donation      650\nCash donation           250\nGoods/services sold     425\nRaffle tickets          625\nSilent auction         1325",
      "text/html": "<div>\n<style scoped>\n    .dataframe tbody tr th:only-of-type {\n        vertical-align: middle;\n    }\n\n    .dataframe tbody tr th {\n        vertical-align: top;\n    }\n\n    .dataframe thead th {\n        text-align: right;\n    }\n</style>\n<table border=\"1\" class=\"dataframe\">\n  <thead>\n    <tr style=\"text-align: right;\">\n      <th></th>\n      <th>AMOUNT</th>\n    </tr>\n    <tr>\n      <th>SOURCE</th>\n      <th></th>\n    </tr>\n  </thead>\n  <tbody>\n    <tr>\n      <th>Anonymous donation</th>\n      <td>650</td>\n    </tr>\n    <tr>\n      <th>Cash donation</th>\n      <td>250</td>\n    </tr>\n    <tr>\n      <th>Goods/services sold</th>\n      <td>425</td>\n    </tr>\n    <tr>\n      <th>Raffle tickets</th>\n      <td>625</td>\n    </tr>\n    <tr>\n      <th>Silent auction</th>\n      <td>1325</td>\n    </tr>\n  </tbody>\n</table>\n</div>"
     },
     "execution_count": 27,
     "metadata": {},
     "output_type": "execute_result"
    }
   ],
   "source": [
    "grouped_revenue\n"
   ],
   "metadata": {
    "collapsed": false
   }
  },
  {
   "cell_type": "code",
   "execution_count": 28,
   "outputs": [],
   "source": [
    "grouped_revenue.to_excel('Revenue.xlsx')\n"
   ],
   "metadata": {
    "collapsed": false
   }
  },
  {
   "cell_type": "code",
   "execution_count": 29,
   "outputs": [],
   "source": [
    "# Use Openpyxl to format cells in an existing Excel workbook,\n",
    "# such as changing font color, size, or background color\n"
   ],
   "metadata": {
    "collapsed": false
   }
  },
  {
   "cell_type": "code",
   "execution_count": 30,
   "outputs": [],
   "source": [
    "revenue_workbook = openpyxl.load_workbook('Revenue.xlsx')\n"
   ],
   "metadata": {
    "collapsed": false
   }
  },
  {
   "cell_type": "code",
   "execution_count": 31,
   "outputs": [],
   "source": [
    "rev_worksheet = revenue_workbook['Sheet1']\n"
   ],
   "metadata": {
    "collapsed": false
   }
  },
  {
   "cell_type": "code",
   "execution_count": 32,
   "outputs": [],
   "source": [
    "from openpyxl.styles import PatternFill\n",
    "\n",
    "for row in rev_worksheet.rows:\n",
    "    for cell in row:\n",
    "        if cell.value is not None:\n",
    "            if cell.row % 2:\n",
    "                cell.fill = PatternFill(start_color='FFCC00', end_color='FFCC00', fill_type='solid')\n"
   ],
   "metadata": {
    "collapsed": false
   }
  },
  {
   "cell_type": "code",
   "execution_count": 33,
   "outputs": [],
   "source": [
    "revenue_workbook.save('Revenue.xlsx')\n"
   ],
   "metadata": {
    "collapsed": false
   }
  },
  {
   "cell_type": "code",
   "execution_count": 34,
   "outputs": [],
   "source": [
    "# Use Pandas and Openpyxl to perform calculations on data in an Excel spreadsheet,\n",
    "# such as calculating the sum or average of a range of cells\n"
   ],
   "metadata": {
    "collapsed": false
   }
  },
  {
   "cell_type": "code",
   "execution_count": 35,
   "outputs": [],
   "source": [
    "total_revenue = df_revenue.AMOUNT.sum()\n"
   ],
   "metadata": {
    "collapsed": false
   }
  },
  {
   "cell_type": "code",
   "execution_count": 36,
   "outputs": [
    {
     "name": "stdout",
     "output_type": "stream",
     "text": [
      "The total Revenue: $3,275.00\n"
     ]
    }
   ],
   "source": [
    "print(f'The total Revenue: ${total_revenue:,.2f}')\n"
   ],
   "metadata": {
    "collapsed": false
   }
  },
  {
   "cell_type": "code",
   "execution_count": 37,
   "outputs": [],
   "source": [
    "average_expenses = df_expenses.AMOUNT.mean()\n"
   ],
   "metadata": {
    "collapsed": false
   }
  },
  {
   "cell_type": "code",
   "execution_count": 38,
   "outputs": [
    {
     "name": "stdout",
     "output_type": "stream",
     "text": [
      "The average Expenses: $52.80\n"
     ]
    }
   ],
   "source": [
    "print(f'The average Expenses: ${average_expenses:,.2f}')\n"
   ],
   "metadata": {
    "collapsed": false
   }
  },
  {
   "cell_type": "code",
   "execution_count": 39,
   "outputs": [],
   "source": [
    "# Use Openpyxl to create charts or graphs based on data in an existing\n",
    "# Excel workbook and output the results to a new Excel file\n"
   ],
   "metadata": {
    "collapsed": false
   }
  },
  {
   "cell_type": "code",
   "execution_count": 40,
   "outputs": [],
   "source": [
    "from openpyxl.chart import BarChart, Reference\n"
   ],
   "metadata": {
    "collapsed": false
   }
  },
  {
   "cell_type": "code",
   "execution_count": 41,
   "outputs": [],
   "source": [
    "chart = BarChart()\n"
   ],
   "metadata": {
    "collapsed": false
   }
  },
  {
   "cell_type": "code",
   "execution_count": 42,
   "outputs": [],
   "source": [
    "data = Reference(rev_worksheet, min_col=1, min_row=2, max_col=3, max_row=6)\n"
   ],
   "metadata": {
    "collapsed": false
   }
  },
  {
   "cell_type": "code",
   "execution_count": 43,
   "outputs": [],
   "source": [
    "chart.add_data(data)\n"
   ],
   "metadata": {
    "collapsed": false
   }
  },
  {
   "cell_type": "code",
   "execution_count": 44,
   "outputs": [],
   "source": [
    "rev_worksheet.add_chart(chart, 'D2')\n"
   ],
   "metadata": {
    "collapsed": false
   }
  },
  {
   "cell_type": "code",
   "execution_count": 45,
   "outputs": [],
   "source": [
    "revenue_workbook.save('Revenue.xlsx')"
   ],
   "metadata": {
    "collapsed": false
   }
  },
  {
   "cell_type": "code",
   "execution_count": 45,
   "outputs": [],
   "source": [],
   "metadata": {
    "collapsed": false
   }
  }
 ],
 "metadata": {
  "kernelspec": {
   "display_name": "Python 3",
   "language": "python",
   "name": "python3"
  },
  "language_info": {
   "codemirror_mode": {
    "name": "ipython",
    "version": 2
   },
   "file_extension": ".py",
   "mimetype": "text/x-python",
   "name": "python",
   "nbconvert_exporter": "python",
   "pygments_lexer": "ipython2",
   "version": "2.7.6"
  }
 },
 "nbformat": 4,
 "nbformat_minor": 0
}
