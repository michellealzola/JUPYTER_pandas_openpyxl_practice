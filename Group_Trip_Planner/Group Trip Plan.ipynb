{
 "cells": [
  {
   "cell_type": "code",
   "execution_count": 1,
   "metadata": {
    "collapsed": true
   },
   "outputs": [],
   "source": [
    "import pandas as pd\n"
   ]
  },
  {
   "cell_type": "code",
   "execution_count": 2,
   "outputs": [],
   "source": [
    "# 1. Problem: Load an Excel file using Pandas and extract the data from a\n",
    "# specific worksheet and specific columns.\n"
   ],
   "metadata": {
    "collapsed": false
   }
  },
  {
   "cell_type": "code",
   "execution_count": 3,
   "outputs": [],
   "source": [
    "df = pd.read_excel('Group trip planner1.xlsx')\n"
   ],
   "metadata": {
    "collapsed": false
   }
  },
  {
   "cell_type": "code",
   "execution_count": 4,
   "outputs": [
    {
     "data": {
      "text/plain": "           Trip planner             Unnamed: 1 10/28/2021 - 11/6/2021   \\\n0                   NaN                    NaN                     NaN   \n1     List of travelers                    NaN                     NaN   \n2           Travel name                    NaN                   Phone   \n3        Quinn Campbell                    NaN            206-555-0199   \n4          Casey Jensen                    NaN            206-555-0199   \n5   Chanok Rattanakoson                    NaN            206-555-0199   \n6         Si-hyeon Choi                    NaN            206-555-0199   \n7                   NaN                    NaN                     NaN   \n8        Trip itinerary                    NaN                     NaN   \n9                  Date            Destination                   #Days   \n10  2021-10-28 00:00:00       San Juan Islands                       4   \n11  2021-11-01 00:00:00  Olympic national park                       5   \n\n   Unnamed: 3                      Unnamed: 4   Unnamed: 5 Unnamed: 6  \n0         NaN                             NaN          NaN        NaN  \n1         NaN                             NaN          NaN        NaN  \n2         NaN                           Email          NaN        NaN  \n3         NaN       quinncampbell@contoso.com          NaN        NaN  \n4         NaN         caseyjensen@contoso.com          NaN        NaN  \n5         NaN  chanokrattanakoson@contoso.com          NaN        NaN  \n6         NaN         sihyeonchoi@contoso.com          NaN        NaN  \n7         NaN                             NaN          NaN        NaN  \n8         NaN                             NaN          NaN        NaN  \n9    # Nights                         Lodging  Reservation      Notes  \n10          3             General Clark's Inn       AZ1234        NaN  \n11          4               The Rosehip Hotel       AZ1234        NaN  ",
      "text/html": "<div>\n<style scoped>\n    .dataframe tbody tr th:only-of-type {\n        vertical-align: middle;\n    }\n\n    .dataframe tbody tr th {\n        vertical-align: top;\n    }\n\n    .dataframe thead th {\n        text-align: right;\n    }\n</style>\n<table border=\"1\" class=\"dataframe\">\n  <thead>\n    <tr style=\"text-align: right;\">\n      <th></th>\n      <th>Trip planner</th>\n      <th>Unnamed: 1</th>\n      <th>10/28/2021 - 11/6/2021</th>\n      <th>Unnamed: 3</th>\n      <th>Unnamed: 4</th>\n      <th>Unnamed: 5</th>\n      <th>Unnamed: 6</th>\n    </tr>\n  </thead>\n  <tbody>\n    <tr>\n      <th>0</th>\n      <td>NaN</td>\n      <td>NaN</td>\n      <td>NaN</td>\n      <td>NaN</td>\n      <td>NaN</td>\n      <td>NaN</td>\n      <td>NaN</td>\n    </tr>\n    <tr>\n      <th>1</th>\n      <td>List of travelers</td>\n      <td>NaN</td>\n      <td>NaN</td>\n      <td>NaN</td>\n      <td>NaN</td>\n      <td>NaN</td>\n      <td>NaN</td>\n    </tr>\n    <tr>\n      <th>2</th>\n      <td>Travel name</td>\n      <td>NaN</td>\n      <td>Phone</td>\n      <td>NaN</td>\n      <td>Email</td>\n      <td>NaN</td>\n      <td>NaN</td>\n    </tr>\n    <tr>\n      <th>3</th>\n      <td>Quinn Campbell</td>\n      <td>NaN</td>\n      <td>206-555-0199</td>\n      <td>NaN</td>\n      <td>quinncampbell@contoso.com</td>\n      <td>NaN</td>\n      <td>NaN</td>\n    </tr>\n    <tr>\n      <th>4</th>\n      <td>Casey Jensen</td>\n      <td>NaN</td>\n      <td>206-555-0199</td>\n      <td>NaN</td>\n      <td>caseyjensen@contoso.com</td>\n      <td>NaN</td>\n      <td>NaN</td>\n    </tr>\n    <tr>\n      <th>5</th>\n      <td>Chanok Rattanakoson</td>\n      <td>NaN</td>\n      <td>206-555-0199</td>\n      <td>NaN</td>\n      <td>chanokrattanakoson@contoso.com</td>\n      <td>NaN</td>\n      <td>NaN</td>\n    </tr>\n    <tr>\n      <th>6</th>\n      <td>Si-hyeon Choi</td>\n      <td>NaN</td>\n      <td>206-555-0199</td>\n      <td>NaN</td>\n      <td>sihyeonchoi@contoso.com</td>\n      <td>NaN</td>\n      <td>NaN</td>\n    </tr>\n    <tr>\n      <th>7</th>\n      <td>NaN</td>\n      <td>NaN</td>\n      <td>NaN</td>\n      <td>NaN</td>\n      <td>NaN</td>\n      <td>NaN</td>\n      <td>NaN</td>\n    </tr>\n    <tr>\n      <th>8</th>\n      <td>Trip itinerary</td>\n      <td>NaN</td>\n      <td>NaN</td>\n      <td>NaN</td>\n      <td>NaN</td>\n      <td>NaN</td>\n      <td>NaN</td>\n    </tr>\n    <tr>\n      <th>9</th>\n      <td>Date</td>\n      <td>Destination</td>\n      <td>#Days</td>\n      <td># Nights</td>\n      <td>Lodging</td>\n      <td>Reservation</td>\n      <td>Notes</td>\n    </tr>\n    <tr>\n      <th>10</th>\n      <td>2021-10-28 00:00:00</td>\n      <td>San Juan Islands</td>\n      <td>4</td>\n      <td>3</td>\n      <td>General Clark's Inn</td>\n      <td>AZ1234</td>\n      <td>NaN</td>\n    </tr>\n    <tr>\n      <th>11</th>\n      <td>2021-11-01 00:00:00</td>\n      <td>Olympic national park</td>\n      <td>5</td>\n      <td>4</td>\n      <td>The Rosehip Hotel</td>\n      <td>AZ1234</td>\n      <td>NaN</td>\n    </tr>\n  </tbody>\n</table>\n</div>"
     },
     "execution_count": 4,
     "metadata": {},
     "output_type": "execute_result"
    }
   ],
   "source": [
    "df\n"
   ],
   "metadata": {
    "collapsed": false
   }
  },
  {
   "cell_type": "code",
   "execution_count": 5,
   "outputs": [
    {
     "name": "stdout",
     "output_type": "stream",
     "text": [
      "<class 'pandas.core.frame.DataFrame'>\n",
      "RangeIndex: 12 entries, 0 to 11\n",
      "Data columns (total 7 columns):\n",
      " #   Column                   Non-Null Count  Dtype \n",
      "---  ------                   --------------  ----- \n",
      " 0   Trip planner             10 non-null     object\n",
      " 1   Unnamed: 1               3 non-null      object\n",
      " 2   10/28/2021 - 11/6/2021   8 non-null      object\n",
      " 3   Unnamed: 3               3 non-null      object\n",
      " 4   Unnamed: 4               8 non-null      object\n",
      " 5   Unnamed: 5               3 non-null      object\n",
      " 6   Unnamed: 6               1 non-null      object\n",
      "dtypes: object(7)\n",
      "memory usage: 804.0+ bytes\n"
     ]
    }
   ],
   "source": [
    "df.info()\n"
   ],
   "metadata": {
    "collapsed": false
   }
  },
  {
   "cell_type": "code",
   "execution_count": 6,
   "outputs": [],
   "source": [
    "# 2. Problem: Write a Python script using Openpyxl to create a new Excel\n",
    "# workbook and write data to it from a Pandas dataframe.\n"
   ],
   "metadata": {
    "collapsed": false
   }
  },
  {
   "cell_type": "code",
   "execution_count": 38,
   "outputs": [],
   "source": [
    "from openpyxl import load_workbook\n"
   ],
   "metadata": {
    "collapsed": false
   }
  },
  {
   "cell_type": "code",
   "execution_count": 39,
   "outputs": [],
   "source": [
    "workbook = load_workbook('Group trip planner1.xlsx', data_only=True)\n"
   ],
   "metadata": {
    "collapsed": false
   }
  },
  {
   "cell_type": "code",
   "execution_count": 40,
   "outputs": [
    {
     "data": {
      "text/plain": "['Overview', 'Transportation', 'Packing', 'Emergency contacts']"
     },
     "execution_count": 40,
     "metadata": {},
     "output_type": "execute_result"
    }
   ],
   "source": [
    "workbook.sheetnames\n"
   ],
   "metadata": {
    "collapsed": false
   }
  },
  {
   "cell_type": "code",
   "execution_count": 41,
   "outputs": [],
   "source": [
    "worksheet = workbook['Overview']\n"
   ],
   "metadata": {
    "collapsed": false
   }
  },
  {
   "cell_type": "code",
   "execution_count": 42,
   "outputs": [],
   "source": [
    "df_list_of_travelers = pd.DataFrame()\n"
   ],
   "metadata": {
    "collapsed": false
   }
  },
  {
   "cell_type": "code",
   "execution_count": 43,
   "outputs": [],
   "source": [
    "travel_names = []\n",
    "phones = []\n",
    "emails = []\n",
    "\n",
    "for i in range(5, 9):\n",
    "    travel_names.append((worksheet.cell(row=i, column=1)).value)\n",
    "    phones.append((worksheet.cell(row=i, column=3)).value)\n",
    "    emails.append((worksheet.cell(row=i, column=5)).value)\n",
    "\n",
    "df_list_of_travelers['Travel_Name'] = travel_names\n",
    "df_list_of_travelers['Phone'] = phones\n",
    "df_list_of_travelers['Email'] = emails\n"
   ],
   "metadata": {
    "collapsed": false
   }
  },
  {
   "cell_type": "code",
   "execution_count": 44,
   "outputs": [
    {
     "data": {
      "text/plain": "           Travel_Name         Phone                           Email\n0       Quinn Campbell  206-555-0199       quinncampbell@contoso.com\n1         Casey Jensen  206-555-0199         caseyjensen@contoso.com\n2  Chanok Rattanakoson  206-555-0199  chanokrattanakoson@contoso.com\n3        Si-hyeon Choi  206-555-0199         sihyeonchoi@contoso.com",
      "text/html": "<div>\n<style scoped>\n    .dataframe tbody tr th:only-of-type {\n        vertical-align: middle;\n    }\n\n    .dataframe tbody tr th {\n        vertical-align: top;\n    }\n\n    .dataframe thead th {\n        text-align: right;\n    }\n</style>\n<table border=\"1\" class=\"dataframe\">\n  <thead>\n    <tr style=\"text-align: right;\">\n      <th></th>\n      <th>Travel_Name</th>\n      <th>Phone</th>\n      <th>Email</th>\n    </tr>\n  </thead>\n  <tbody>\n    <tr>\n      <th>0</th>\n      <td>Quinn Campbell</td>\n      <td>206-555-0199</td>\n      <td>quinncampbell@contoso.com</td>\n    </tr>\n    <tr>\n      <th>1</th>\n      <td>Casey Jensen</td>\n      <td>206-555-0199</td>\n      <td>caseyjensen@contoso.com</td>\n    </tr>\n    <tr>\n      <th>2</th>\n      <td>Chanok Rattanakoson</td>\n      <td>206-555-0199</td>\n      <td>chanokrattanakoson@contoso.com</td>\n    </tr>\n    <tr>\n      <th>3</th>\n      <td>Si-hyeon Choi</td>\n      <td>206-555-0199</td>\n      <td>sihyeonchoi@contoso.com</td>\n    </tr>\n  </tbody>\n</table>\n</div>"
     },
     "execution_count": 44,
     "metadata": {},
     "output_type": "execute_result"
    }
   ],
   "source": [
    "df_list_of_travelers\n"
   ],
   "metadata": {
    "collapsed": false
   }
  },
  {
   "cell_type": "code",
   "execution_count": 45,
   "outputs": [
    {
     "data": {
      "text/plain": "                            Phone                           Email\nTravel_Name                                                      \nQuinn Campbell       206-555-0199       quinncampbell@contoso.com\nCasey Jensen         206-555-0199         caseyjensen@contoso.com\nChanok Rattanakoson  206-555-0199  chanokrattanakoson@contoso.com\nSi-hyeon Choi        206-555-0199         sihyeonchoi@contoso.com",
      "text/html": "<div>\n<style scoped>\n    .dataframe tbody tr th:only-of-type {\n        vertical-align: middle;\n    }\n\n    .dataframe tbody tr th {\n        vertical-align: top;\n    }\n\n    .dataframe thead th {\n        text-align: right;\n    }\n</style>\n<table border=\"1\" class=\"dataframe\">\n  <thead>\n    <tr style=\"text-align: right;\">\n      <th></th>\n      <th>Phone</th>\n      <th>Email</th>\n    </tr>\n    <tr>\n      <th>Travel_Name</th>\n      <th></th>\n      <th></th>\n    </tr>\n  </thead>\n  <tbody>\n    <tr>\n      <th>Quinn Campbell</th>\n      <td>206-555-0199</td>\n      <td>quinncampbell@contoso.com</td>\n    </tr>\n    <tr>\n      <th>Casey Jensen</th>\n      <td>206-555-0199</td>\n      <td>caseyjensen@contoso.com</td>\n    </tr>\n    <tr>\n      <th>Chanok Rattanakoson</th>\n      <td>206-555-0199</td>\n      <td>chanokrattanakoson@contoso.com</td>\n    </tr>\n    <tr>\n      <th>Si-hyeon Choi</th>\n      <td>206-555-0199</td>\n      <td>sihyeonchoi@contoso.com</td>\n    </tr>\n  </tbody>\n</table>\n</div>"
     },
     "execution_count": 45,
     "metadata": {},
     "output_type": "execute_result"
    }
   ],
   "source": [
    "df_list_of_travelers.set_index('Travel_Name')\n"
   ],
   "metadata": {
    "collapsed": false
   }
  },
  {
   "cell_type": "code",
   "execution_count": 47,
   "outputs": [],
   "source": [
    "import openpyxl\n",
    "from openpyxl.utils.dataframe import dataframe_to_rows\n"
   ],
   "metadata": {
    "collapsed": false
   }
  },
  {
   "cell_type": "code",
   "execution_count": 48,
   "outputs": [],
   "source": [
    "workbook_new = openpyxl.Workbook()\n"
   ],
   "metadata": {
    "collapsed": false
   }
  },
  {
   "cell_type": "code",
   "execution_count": 49,
   "outputs": [],
   "source": [
    "worksheet_new = workbook_new.active\n"
   ],
   "metadata": {
    "collapsed": false
   }
  },
  {
   "cell_type": "code",
   "execution_count": 50,
   "outputs": [],
   "source": [
    "for r in dataframe_to_rows(df_list_of_travelers, index=False, header=True):\n",
    "    worksheet_new.append(r)\n"
   ],
   "metadata": {
    "collapsed": false
   }
  },
  {
   "cell_type": "code",
   "execution_count": 51,
   "outputs": [],
   "source": [
    "workbook_new.save('Travelers.xlsx')\n"
   ],
   "metadata": {
    "collapsed": false
   }
  },
  {
   "cell_type": "code",
   "execution_count": 52,
   "outputs": [],
   "source": [
    "# 3. Problem: Use Pandas to read an Excel file that has multiple\n",
    "# worksheets and combine the data from these sheets into a single dataframe.\n"
   ],
   "metadata": {
    "collapsed": false
   }
  },
  {
   "cell_type": "code",
   "execution_count": 53,
   "outputs": [],
   "source": [
    "excel_file = pd.ExcelFile('Group trip planner1.xlsx')\n"
   ],
   "metadata": {
    "collapsed": false
   }
  },
  {
   "cell_type": "code",
   "execution_count": 54,
   "outputs": [],
   "source": [
    "combined_data = pd.DataFrame()\n"
   ],
   "metadata": {
    "collapsed": false
   }
  },
  {
   "cell_type": "code",
   "execution_count": 55,
   "outputs": [],
   "source": [
    "for sheet_name in excel_file.sheet_names:\n",
    "    df = excel_file.parse(sheet_name)\n",
    "    combined_data = pd.concat([combined_data, df])\n"
   ],
   "metadata": {
    "collapsed": false
   }
  },
  {
   "cell_type": "code",
   "execution_count": 56,
   "outputs": [],
   "source": [
    "combined_data = combined_data.reset_index(drop=True)\n"
   ],
   "metadata": {
    "collapsed": false
   }
  },
  {
   "cell_type": "code",
   "execution_count": 57,
   "outputs": [],
   "source": [
    "combined_data.to_excel('GroupTripCOMBINED.xlsx', index=False)\n"
   ],
   "metadata": {
    "collapsed": false
   }
  },
  {
   "cell_type": "code",
   "execution_count": 58,
   "outputs": [],
   "source": [
    "# 4. Problem: Use Openpyxl to insert a new row or column into an existing Excel workbook.\n"
   ],
   "metadata": {
    "collapsed": false
   }
  },
  {
   "cell_type": "code",
   "execution_count": 59,
   "outputs": [],
   "source": [
    "workbook_change = openpyxl.load_workbook('Travelers.xlsx')\n"
   ],
   "metadata": {
    "collapsed": false
   }
  },
  {
   "cell_type": "code",
   "execution_count": 61,
   "outputs": [],
   "source": [
    "worksheet_change = workbook_change['Sheet']\n"
   ],
   "metadata": {
    "collapsed": false
   }
  },
  {
   "cell_type": "code",
   "execution_count": 62,
   "outputs": [],
   "source": [
    "worksheet_change.insert_rows(2) # insert row at row 2\n"
   ],
   "metadata": {
    "collapsed": false
   }
  },
  {
   "cell_type": "code",
   "execution_count": 63,
   "outputs": [],
   "source": [
    "worksheet_change.insert_cols(1) # insert col at column 2\n"
   ],
   "metadata": {
    "collapsed": false
   }
  },
  {
   "cell_type": "code",
   "execution_count": 64,
   "outputs": [
    {
     "data": {
      "text/plain": "<Cell 'Sheet'.A2>"
     },
     "execution_count": 64,
     "metadata": {},
     "output_type": "execute_result"
    }
   ],
   "source": [
    "worksheet_change.cell(row=2, column=1, value='New cell inserted')\n"
   ],
   "metadata": {
    "collapsed": false
   }
  },
  {
   "cell_type": "code",
   "execution_count": 65,
   "outputs": [],
   "source": [
    "workbook_change.save('Travelers_changed.xlsx')\n"
   ],
   "metadata": {
    "collapsed": false
   }
  },
  {
   "cell_type": "code",
   "execution_count": 66,
   "outputs": [],
   "source": [
    "# 5. Problem: Use Pandas to filter and sort data in an Excel spreadsheet\n",
    "# based on specific criteria and output the results to a new Excel file.\n"
   ],
   "metadata": {
    "collapsed": false
   }
  },
  {
   "cell_type": "code",
   "execution_count": 77,
   "outputs": [
    {
     "data": {
      "text/plain": "           Travel_Name         Phone                           Email\n0       Quinn Campbell  206-555-0199       quinncampbell@contoso.com\n1         Casey Jensen  206-555-0199         caseyjensen@contoso.com\n2  Chanok Rattanakoson  206-555-0199  chanokrattanakoson@contoso.com\n3        Si-hyeon Choi  206-555-0199         sihyeonchoi@contoso.com",
      "text/html": "<div>\n<style scoped>\n    .dataframe tbody tr th:only-of-type {\n        vertical-align: middle;\n    }\n\n    .dataframe tbody tr th {\n        vertical-align: top;\n    }\n\n    .dataframe thead th {\n        text-align: right;\n    }\n</style>\n<table border=\"1\" class=\"dataframe\">\n  <thead>\n    <tr style=\"text-align: right;\">\n      <th></th>\n      <th>Travel_Name</th>\n      <th>Phone</th>\n      <th>Email</th>\n    </tr>\n  </thead>\n  <tbody>\n    <tr>\n      <th>0</th>\n      <td>Quinn Campbell</td>\n      <td>206-555-0199</td>\n      <td>quinncampbell@contoso.com</td>\n    </tr>\n    <tr>\n      <th>1</th>\n      <td>Casey Jensen</td>\n      <td>206-555-0199</td>\n      <td>caseyjensen@contoso.com</td>\n    </tr>\n    <tr>\n      <th>2</th>\n      <td>Chanok Rattanakoson</td>\n      <td>206-555-0199</td>\n      <td>chanokrattanakoson@contoso.com</td>\n    </tr>\n    <tr>\n      <th>3</th>\n      <td>Si-hyeon Choi</td>\n      <td>206-555-0199</td>\n      <td>sihyeonchoi@contoso.com</td>\n    </tr>\n  </tbody>\n</table>\n</div>"
     },
     "execution_count": 77,
     "metadata": {},
     "output_type": "execute_result"
    }
   ],
   "source": [
    "data = pd.read_excel('Travelers.xlsx')\n",
    "data"
   ],
   "metadata": {
    "collapsed": false
   }
  },
  {
   "cell_type": "code",
   "execution_count": 78,
   "outputs": [],
   "source": [
    "filtered_data = data[data['Travel_Name'] == 'Quinn Campbell']\n"
   ],
   "metadata": {
    "collapsed": false
   }
  },
  {
   "cell_type": "code",
   "execution_count": 79,
   "outputs": [
    {
     "data": {
      "text/plain": "      Travel_Name         Phone                      Email\n0  Quinn Campbell  206-555-0199  quinncampbell@contoso.com",
      "text/html": "<div>\n<style scoped>\n    .dataframe tbody tr th:only-of-type {\n        vertical-align: middle;\n    }\n\n    .dataframe tbody tr th {\n        vertical-align: top;\n    }\n\n    .dataframe thead th {\n        text-align: right;\n    }\n</style>\n<table border=\"1\" class=\"dataframe\">\n  <thead>\n    <tr style=\"text-align: right;\">\n      <th></th>\n      <th>Travel_Name</th>\n      <th>Phone</th>\n      <th>Email</th>\n    </tr>\n  </thead>\n  <tbody>\n    <tr>\n      <th>0</th>\n      <td>Quinn Campbell</td>\n      <td>206-555-0199</td>\n      <td>quinncampbell@contoso.com</td>\n    </tr>\n  </tbody>\n</table>\n</div>"
     },
     "execution_count": 79,
     "metadata": {},
     "output_type": "execute_result"
    }
   ],
   "source": [
    "filtered_data\n"
   ],
   "metadata": {
    "collapsed": false
   }
  },
  {
   "cell_type": "code",
   "execution_count": 80,
   "outputs": [],
   "source": [
    "sorted_data = data.sort_values('Travel_Name', ascending=False)\n"
   ],
   "metadata": {
    "collapsed": false
   }
  },
  {
   "cell_type": "code",
   "execution_count": 81,
   "outputs": [
    {
     "data": {
      "text/plain": "           Travel_Name         Phone                           Email\n3        Si-hyeon Choi  206-555-0199         sihyeonchoi@contoso.com\n0       Quinn Campbell  206-555-0199       quinncampbell@contoso.com\n2  Chanok Rattanakoson  206-555-0199  chanokrattanakoson@contoso.com\n1         Casey Jensen  206-555-0199         caseyjensen@contoso.com",
      "text/html": "<div>\n<style scoped>\n    .dataframe tbody tr th:only-of-type {\n        vertical-align: middle;\n    }\n\n    .dataframe tbody tr th {\n        vertical-align: top;\n    }\n\n    .dataframe thead th {\n        text-align: right;\n    }\n</style>\n<table border=\"1\" class=\"dataframe\">\n  <thead>\n    <tr style=\"text-align: right;\">\n      <th></th>\n      <th>Travel_Name</th>\n      <th>Phone</th>\n      <th>Email</th>\n    </tr>\n  </thead>\n  <tbody>\n    <tr>\n      <th>3</th>\n      <td>Si-hyeon Choi</td>\n      <td>206-555-0199</td>\n      <td>sihyeonchoi@contoso.com</td>\n    </tr>\n    <tr>\n      <th>0</th>\n      <td>Quinn Campbell</td>\n      <td>206-555-0199</td>\n      <td>quinncampbell@contoso.com</td>\n    </tr>\n    <tr>\n      <th>2</th>\n      <td>Chanok Rattanakoson</td>\n      <td>206-555-0199</td>\n      <td>chanokrattanakoson@contoso.com</td>\n    </tr>\n    <tr>\n      <th>1</th>\n      <td>Casey Jensen</td>\n      <td>206-555-0199</td>\n      <td>caseyjensen@contoso.com</td>\n    </tr>\n  </tbody>\n</table>\n</div>"
     },
     "execution_count": 81,
     "metadata": {},
     "output_type": "execute_result"
    }
   ],
   "source": [
    "sorted_data\n"
   ],
   "metadata": {
    "collapsed": false
   }
  },
  {
   "cell_type": "code",
   "execution_count": null,
   "outputs": [],
   "source": [],
   "metadata": {
    "collapsed": false
   }
  }
 ],
 "metadata": {
  "kernelspec": {
   "display_name": "Python 3",
   "language": "python",
   "name": "python3"
  },
  "language_info": {
   "codemirror_mode": {
    "name": "ipython",
    "version": 2
   },
   "file_extension": ".py",
   "mimetype": "text/x-python",
   "name": "python",
   "nbconvert_exporter": "python",
   "pygments_lexer": "ipython2",
   "version": "2.7.6"
  }
 },
 "nbformat": 4,
 "nbformat_minor": 0
}
